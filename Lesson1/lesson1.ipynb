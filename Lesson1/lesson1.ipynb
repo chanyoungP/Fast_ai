{
 "cells": [
  {
   "cell_type": "markdown",
   "metadata": {},
   "source": [
    "# Lesson.1 Started"
   ]
  },
  {
   "cell_type": "code",
   "execution_count": 1,
   "metadata": {},
   "outputs": [
    {
     "name": "stdout",
     "output_type": "stream",
     "text": [
      "hello world\n"
     ]
    }
   ],
   "source": [
    "print('hello world')"
   ]
  },
  {
   "cell_type": "markdown",
   "metadata": {},
   "source": [
    "``` \n",
    "don't give a features \n",
    "we learn features\n",
    "\n",
    "```"
   ]
  },
  {
   "cell_type": "markdown",
   "metadata": {},
   "source": [
    "```\n",
    "Pytorch vs Tensorflow in 2022\n",
    ": it's goint to be increasingly difficult to use Tensorflow \n",
    "\n",
    "this lesson will use pytorch \n",
    "```"
   ]
  },
  {
   "cell_type": "markdown",
   "metadata": {},
   "source": [
    "```\n",
    "Fast_ai library : popular and widly used based pytorch \n",
    "```"
   ]
  },
  {
   "cell_type": "markdown",
   "metadata": {},
   "source": [
    "### let's practice  classification task using data set :  Is it a bird ?? "
   ]
  },
  {
   "cell_type": "markdown",
   "metadata": {},
   "source": [
    "```\n",
    "Recomandation System \n",
    "Collaborate filtering ?? : predict sparse matrix ?? \n",
    "```"
   ]
  },
  {
   "cell_type": "markdown",
   "metadata": {},
   "source": [
    "```\n",
    "What happend?? : A normal computer program : Inputs -> program -> results\n",
    "\n",
    "A machine learning model : (inputs, weights) -> model -> results \n",
    "- input and weight multiplied each other to make results, initially weight is random \n",
    "\n",
    "+ \n",
    "(inputs * weight) -> model -> results -> loss -> update (call training) \n",
    "then what if the initial weight is zero then can model train by loss ? \n",
    "\n",
    "```"
   ]
  },
  {
   "cell_type": "markdown",
   "metadata": {},
   "source": []
  }
 ],
 "metadata": {
  "kernelspec": {
   "display_name": "Python 3.9.5 ('py395')",
   "language": "python",
   "name": "python3"
  },
  "language_info": {
   "codemirror_mode": {
    "name": "ipython",
    "version": 3
   },
   "file_extension": ".py",
   "mimetype": "text/x-python",
   "name": "python",
   "nbconvert_exporter": "python",
   "pygments_lexer": "ipython3",
   "version": "3.9.5"
  },
  "orig_nbformat": 4,
  "vscode": {
   "interpreter": {
    "hash": "864b31763ef83ac9ba343f52c8e31f1692d4064f54b969195556a1fedfe30709"
   }
  }
 },
 "nbformat": 4,
 "nbformat_minor": 2
}
